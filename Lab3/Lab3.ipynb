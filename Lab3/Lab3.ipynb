{
 "cells": [
  {
   "cell_type": "code",
   "execution_count": 50,
   "metadata": {
    "id": "atwNDSZxJ-RV"
   },
   "outputs": [],
   "source": [
    "from rnnmorph.predictor import RNNMorphPredictor\n",
    "import nltk\n",
    "from nltk.tokenize import word_tokenize"
   ]
  },
  {
   "cell_type": "code",
   "execution_count": 51,
   "metadata": {
    "colab": {
     "base_uri": "https://localhost:8080/"
    },
    "id": "yAh-vBDEKFnK",
    "outputId": "a7508e36-77a3-4a3f-e137-64a35716a3ad"
   },
   "outputs": [
    {
     "name": "stderr",
     "output_type": "stream",
     "text": [
      "[nltk_data] Downloading package punkt to /root/nltk_data...\n",
      "[nltk_data]   Package punkt is already up-to-date!\n"
     ]
    },
    {
     "data": {
      "text/plain": [
       "True"
      ]
     },
     "execution_count": 51,
     "metadata": {},
     "output_type": "execute_result"
    }
   ],
   "source": [
    "predictor = RNNMorphPredictor(language='ru')\n",
    "nltk.download('punkt')"
   ]
  },
  {
   "cell_type": "code",
   "execution_count": 52,
   "metadata": {
    "colab": {
     "base_uri": "https://localhost:8080/"
    },
    "id": "KPFPNss2KQgF",
    "outputId": "c616cbca-047d-42fd-cc86-ed9070c1a3b1"
   },
   "outputs": [
    {
     "name": "stdout",
     "output_type": "stream",
     "text": [
      "Маленькая боковая дверь вела в выбеленный коридор, куда выходили двери из всех трех спален. Холмс не счел нужным осматривать крайнюю комнату, и мы прямо вошли во вторую спальню, в которой теперь жила мисс Стонер, и где сестру ее постигла ее страшная участь. Это была уютная, старинная комнатка с низким потолком и большим камином. Комод из темного дерева стоял в одном углу, узкая кровать, покрытая стеганым одеялом, в другом, а туалетный стол на левой стороне окна. Эти предметы, вместе с двумя плетеными стульями, составляли всю меблировку этой комнаты, — середину пола покрывал четырехугольный простой ковер. Пол и деревянные панели на стенах были из темного поеденного червями дуба и так стары, что, казалось, сделаны были при самой первоначальной постройке дома. Холмс подвинул себе один из стульев в угол и, сев на него, молча стал осматриваться, водя глазами кругом по стенам, потолку и полу, замечая все малейшие подробности.\n"
     ]
    }
   ],
   "source": [
    "text = open('Text.txt', 'r', encoding='utf-8')\n",
    "text = text.read()\n",
    "print(text)"
   ]
  },
  {
   "cell_type": "code",
   "execution_count": 53,
   "metadata": {
    "id": "O5YHr7oZPQJV"
   },
   "outputs": [],
   "source": [
    "def get_tags(tag):\n",
    "  tags = {}\n",
    "  parts = tag.split('|')\n",
    "  for i in parts:\n",
    "    tag = i.split('=')\n",
    "    tags[tag[0]] = tag[1]\n",
    "  return tags"
   ]
  },
  {
   "cell_type": "code",
   "execution_count": 54,
   "metadata": {
    "colab": {
     "base_uri": "https://localhost:8080/"
    },
    "id": "rojlEGjjONja",
    "outputId": "860ecf0f-8791-4ff6-ada7-ac071220e6d6"
   },
   "outputs": [
    {
     "name": "stdout",
     "output_type": "stream",
     "text": [
      "1/1 [==============================] - 1s 1s/step\n"
     ]
    }
   ],
   "source": [
    "words = word_tokenize(text)\n",
    "res = predictor.predict(words)"
   ]
  },
  {
   "cell_type": "code",
   "execution_count": 55,
   "metadata": {
    "colab": {
     "base_uri": "https://localhost:8080/"
    },
    "id": "UWZIUQIrKhPu",
    "outputId": "4ab76185-b7b0-4556-c5a6-8eeea1f0ed9f"
   },
   "outputs": [
    {
     "name": "stdout",
     "output_type": "stream",
     "text": [
      "маленький боковой\n",
      "боковой дверь\n",
      "выбеленный коридор\n",
      "крайний комната\n",
      "второй спальня\n",
      "страшный участь\n",
      "старинный комнатка\n",
      "низкий потолок\n",
      "больший камин\n",
      "тёмный дерево\n",
      "узкий кровать\n",
      "стёганый одеяло\n",
      "туалетный стол\n",
      "левый сторона\n",
      "четырехугольный простой\n",
      "простой ковёр\n",
      "тёмный поеденный\n",
      "сам первоначальный\n",
      "первоначальный постройка\n"
     ]
    }
   ],
   "source": [
    "for i in range(len(words) - 1):\n",
    "  predict_first = res[i]\n",
    "  predict_second = res[i + 1]\n",
    "  if ((predict_first.pos == 'NOUN') | (predict_first.pos == 'ADJ')) & ((predict_second.pos == 'NOUN') | (predict_second.pos == 'ADJ')):\n",
    "    tags_first = get_tags(predict_first.tag)\n",
    "    tags_second = get_tags(predict_second.tag)\n",
    "    if ('Gender' in tags_first) & ('Gender' in tags_second):\n",
    "      if tags_first['Case'] == tags_second['Case']:\n",
    "        if tags_first['Gender'] == tags_second['Gender']:\n",
    "          if tags_first['Number'] == tags_second['Number']:\n",
    "            print(predict_first.normal_form, predict_second.normal_form)"
   ]
  }
 ],
 "metadata": {
  "colab": {
   "provenance": []
  },
  "kernelspec": {
   "display_name": "Python 3 (ipykernel)",
   "language": "python",
   "name": "python3"
  },
  "language_info": {
   "codemirror_mode": {
    "name": "ipython",
    "version": 3
   },
   "file_extension": ".py",
   "mimetype": "text/x-python",
   "name": "python",
   "nbconvert_exporter": "python",
   "pygments_lexer": "ipython3",
   "version": "3.9.0"
  }
 },
 "nbformat": 4,
 "nbformat_minor": 1
}
