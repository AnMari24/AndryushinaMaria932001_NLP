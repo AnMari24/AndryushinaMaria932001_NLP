{
 "cells": [
  {
   "cell_type": "code",
   "execution_count": 1,
   "id": "c2c1940b",
   "metadata": {},
   "outputs": [],
   "source": [
    "import nltk\n",
    "from nltk.tokenize import word_tokenize\n",
    "from nltk import sent_tokenize\n",
    "import pymorphy2"
   ]
  },
  {
   "cell_type": "code",
   "execution_count": 2,
   "id": "4acf2363",
   "metadata": {},
   "outputs": [],
   "source": [
    "m = pymorphy2.MorphAnalyzer()\n",
    "nltk.download('punkt')"
   ]
  },
  {
   "cell_type": "code",
   "execution_count": 77,
   "id": "f4e2713a",
   "metadata": {},
   "outputs": [
    {
     "name": "stdout",
     "output_type": "stream",
     "text": [
      "Маленькая боковая дверь вела в выбеленный коридор, куда выходили двери из всех трех спален. Холмс не счел нужным осматривать крайнюю комнату, и мы прямо вошли во вторую спальню, в которой теперь жила мисс Стонер, и где сестру ее постигла ее страшная участь. Это была уютная, старинная комнатка с низким потолком и большим камином. Комод из темного дерева стоял в одном углу, узкая кровать, покрытая стеганым одеялом, в другом, а туалетный стол на левой стороне окна. Эти предметы, вместе с двумя плетеными стульями, составляли всю меблировку этой комнаты, — середину пола покрывал четырехугольный простой ковер. Пол и деревянные панели на стенах были из темного поеденного червями дуба и так стары, что, казалось, сделаны были при самой первоначальной постройке дома. Холмс подвинул себе один из стульев в угол и, сев на него, молча стал осматриваться, водя глазами кругом по стенам, потолку и полу, замечая все малейшие подробности.\n"
     ]
    }
   ],
   "source": [
    "text = open('Text.txt', 'r', encoding='utf-8')\n",
    "text = text.read()\n",
    "print(text)"
   ]
  },
  {
   "cell_type": "code",
   "execution_count": 78,
   "id": "e6b2cb2e",
   "metadata": {},
   "outputs": [
    {
     "name": "stdout",
     "output_type": "stream",
     "text": [
      "маленький боковой\n",
      "крайний комната\n",
      "второй спальня\n",
      "страшный участь\n",
      "старинный комнатка\n",
      "низкий потолок\n",
      "больший камин\n",
      "тёмный дерево\n",
      "узкий кровать\n",
      "весь меблировка\n",
      "этот комната\n"
     ]
    }
   ],
   "source": [
    "sentences  = sent_tokenize(text)\n",
    "for sentence in sentences:\n",
    "    words = word_tokenize(sentence)\n",
    "    for i in range(len(words) - 1):\n",
    "        word_first = words[i]\n",
    "        word_second = words[i + 1]\n",
    "        parse_first = m.parse(word_first)[0]\n",
    "        parse_second = m.parse(word_second)[0]\n",
    "        if ((parse_first.tag.POS == 'NOUN') | (parse_first.tag.POS == 'ADJF')) & ((parse_second.tag.POS == 'NOUN') | (parse_second.tag.POS == 'ADJF')):\n",
    "            if parse_first.tag.case == parse_second.tag.case:\n",
    "                if parse_first.tag.gender == parse_second.tag.gender:\n",
    "                    if parse_first.tag.number == parse_second.tag.number:\n",
    "                        print(parse_first.normal_form, parse_second.normal_form)"
   ]
  }
 ],
 "metadata": {
  "kernelspec": {
   "display_name": "Python 3 (ipykernel)",
   "language": "python",
   "name": "python3"
  },
  "language_info": {
   "codemirror_mode": {
    "name": "ipython",
    "version": 3
   },
   "file_extension": ".py",
   "mimetype": "text/x-python",
   "name": "python",
   "nbconvert_exporter": "python",
   "pygments_lexer": "ipython3",
   "version": "3.9.0"
  }
 },
 "nbformat": 4,
 "nbformat_minor": 5
}
