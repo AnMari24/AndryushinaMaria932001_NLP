{
 "cells": [
  {
   "cell_type": "code",
   "execution_count": 1,
   "id": "53c5fc2d",
   "metadata": {},
   "outputs": [],
   "source": [
    "import gensim\n",
    "import re"
   ]
  },
  {
   "cell_type": "code",
   "execution_count": 2,
   "id": "7a0761e8",
   "metadata": {},
   "outputs": [],
   "source": [
    "pat = re.compile(\"(.*)_NOUN\")"
   ]
  },
  {
   "cell_type": "code",
   "execution_count": 3,
   "id": "036f8184",
   "metadata": {},
   "outputs": [],
   "source": [
    "word2vec = gensim.models.KeyedVectors.load_word2vec_format(\"cbow.txt\", binary=False)"
   ]
  },
  {
   "cell_type": "code",
   "execution_count": 4,
   "id": "b898aba8",
   "metadata": {
    "scrolled": true
   },
   "outputs": [
    {
     "name": "stdout",
     "output_type": "stream",
     "text": [
      "0.4495541\n"
     ]
    }
   ],
   "source": [
    "similarity = word2vec.similarity('яблочко_NOUN', 'фундук_NOUN')\n",
    "print(similarity)"
   ]
  },
  {
   "cell_type": "code",
   "execution_count": 5,
   "id": "880499e4",
   "metadata": {},
   "outputs": [
    {
     "name": "stdout",
     "output_type": "stream",
     "text": [
      "яблоко_NOUN: 0.6815\n"
     ]
    }
   ],
   "source": [
    "result = word2vec.similar_by_word(\"яблочко_NOUN\")\n",
    "most_similar_key, similarity = result[0]\n",
    "print(f\"{most_similar_key}: {similarity:.4f}\")"
   ]
  },
  {
   "cell_type": "code",
   "execution_count": 6,
   "id": "909bd407",
   "metadata": {
    "scrolled": true
   },
   "outputs": [
    {
     "name": "stdout",
     "output_type": "stream",
     "text": [
      "орех_NUM: 0.5814\n"
     ]
    }
   ],
   "source": [
    "result = word2vec.similar_by_word(\"фундук_NOUN\")\n",
    "most_similar_key, similarity = result[0]\n",
    "print(f\"{most_similar_key}: {similarity:.4f}\")"
   ]
  },
  {
   "cell_type": "code",
   "execution_count": 13,
   "id": "d7f5798c",
   "metadata": {
    "scrolled": true
   },
   "outputs": [
    {
     "name": "stdout",
     "output_type": "stream",
     "text": [
      "яблоко\n",
      "ягодка\n",
      "яблочок\n",
      "яблонька\n",
      "вишня\n",
      "черешня\n"
     ]
    }
   ],
   "source": [
    "result = word2vec.similar_by_word(\"яблочко_NOUN\", topn=8)\n",
    "for i in result:\n",
    "    e = pat.match(i[0])\n",
    "    if e is not None:\n",
    "        print(e.group(1))"
   ]
  },
  {
   "cell_type": "code",
   "execution_count": 8,
   "id": "33ad86f9",
   "metadata": {
    "scrolled": true
   },
   "outputs": [
    {
     "name": "stdout",
     "output_type": "stream",
     "text": [
      "арахис\n",
      "фисташка\n",
      "желудь\n",
      "клюква\n",
      "черешня\n",
      "орех\n"
     ]
    }
   ],
   "source": [
    "result = word2vec.similar_by_word(\"фундук_NOUN\", topn=7)\n",
    "for i in result:\n",
    "    e = pat.match(i[0])\n",
    "    if e is not None:\n",
    "        print(e.group(1))"
   ]
  },
  {
   "cell_type": "code",
   "execution_count": 9,
   "id": "423d1fe3",
   "metadata": {},
   "outputs": [
    {
     "name": "stdout",
     "output_type": "stream",
     "text": [
      "клаксон\n",
      "пенополиуретан\n",
      "автомашина\n",
      "мороженщик\n",
      "расчисткий\n"
     ]
    }
   ],
   "source": [
    "pos = [\"черешня_NOUN\"]\n",
    "neg = [\"яблочко_NOUN\"]\n",
    "dist = word2vec.most_similar(positive=pos, negative=neg)\n",
    "for i in dist:\n",
    "    e = pat.match(i[0])\n",
    "    if e is not None:\n",
    "        print(e.group(1))"
   ]
  },
  {
   "cell_type": "code",
   "execution_count": 10,
   "id": "67bb8f1d",
   "metadata": {
    "scrolled": true
   },
   "outputs": [
    {
     "name": "stdout",
     "output_type": "stream",
     "text": [
      "отжиг\n",
      "утеплитель\n",
      "сорбент\n",
      "расплава\n",
      "фреон\n",
      "вулканизация\n",
      "электролит\n",
      "электролиз\n",
      "теплоноситель\n"
     ]
    }
   ],
   "source": [
    "pos = [\"пенополиуретан_NOUN\"]\n",
    "neg = [\"фундук_NOUN\"]\n",
    "dist = word2vec.most_similar(positive=pos, negative=neg)\n",
    "for i in dist:\n",
    "    e = pat.match(i[0])\n",
    "    if e is not None:\n",
    "        print(e.group(1))"
   ]
  },
  {
   "cell_type": "code",
   "execution_count": 11,
   "id": "74f5d3f7",
   "metadata": {},
   "outputs": [
    {
     "name": "stdout",
     "output_type": "stream",
     "text": [
      "орешек\n",
      "яблочко\n",
      "яблоко\n",
      "финика\n",
      "кокос\n",
      "фисташка\n",
      "банан\n",
      "фундук\n"
     ]
    }
   ],
   "source": [
    "pos = [\"орех_NOUN\"]\n",
    "neg = [\"отжиг_NOUN\"]\n",
    "dist = word2vec.most_similar(positive=pos, negative=neg)\n",
    "for i in dist:\n",
    "    e = pat.match(i[0])\n",
    "    if e is not None:\n",
    "        print(e.group(1))"
   ]
  }
 ],
 "metadata": {
  "kernelspec": {
   "display_name": "Python 3 (ipykernel)",
   "language": "python",
   "name": "python3"
  },
  "language_info": {
   "codemirror_mode": {
    "name": "ipython",
    "version": 3
   },
   "file_extension": ".py",
   "mimetype": "text/x-python",
   "name": "python",
   "nbconvert_exporter": "python",
   "pygments_lexer": "ipython3",
   "version": "3.9.0"
  }
 },
 "nbformat": 4,
 "nbformat_minor": 5
}
